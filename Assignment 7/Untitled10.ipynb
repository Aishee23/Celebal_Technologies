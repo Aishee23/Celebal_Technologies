{
  "nbformat": 4,
  "nbformat_minor": 0,
  "metadata": {
    "colab": {
      "provenance": []
    },
    "kernelspec": {
      "name": "python3",
      "display_name": "Python 3"
    },
    "language_info": {
      "name": "python"
    }
  },
  "cells": [
    {
      "cell_type": "code",
      "execution_count": 1,
      "metadata": {
        "id": "d2FDFLax1iYc"
      },
      "outputs": [],
      "source": [
        "import pandas as pd\n",
        "import numpy as np\n",
        "import matplotlib.pyplot as plt\n",
        "from sklearn.ensemble import RandomForestRegressor\n",
        "from sklearn.model_selection import train_test_split\n",
        "from sklearn.metrics import mean_squared_error\n",
        "from sklearn.preprocessing import StandardScaler\n",
        "from sklearn.model_selection import GridSearchCV\n",
        "from sklearn.ensemble import GradientBoostingRegressor\n"
      ]
    },
    {
      "cell_type": "code",
      "source": [
        "# Load the training data\n",
        "train_df = pd.read_csv('train.csv')\n",
        "\n",
        "# Load the testing data\n",
        "test_df = pd.read_csv('test.csv')"
      ],
      "metadata": {
        "id": "0Jb26mmL14b3"
      },
      "execution_count": 2,
      "outputs": []
    },
    {
      "cell_type": "code",
      "source": [
        "# Print the first few rows of the data\n",
        "print(train_df.head())\n",
        "\n",
        "# Get the summary statistics of the data\n",
        "print(train_df.describe())\n",
        "\n",
        "# Check for missing values\n",
        "print(train_df.isnull().sum())"
      ],
      "metadata": {
        "colab": {
          "base_uri": "https://localhost:8080/"
        },
        "id": "h-lyyLfs16Pg",
        "outputId": "d2e01133-4819-430d-cb31-5d8b55a8b638"
      },
      "execution_count": 3,
      "outputs": [
        {
          "output_type": "stream",
          "name": "stdout",
          "text": [
            "   Id  MSSubClass MSZoning  LotFrontage  LotArea Street Alley LotShape  \\\n",
            "0   1          60       RL         65.0     8450   Pave   NaN      Reg   \n",
            "1   2          20       RL         80.0     9600   Pave   NaN      Reg   \n",
            "2   3          60       RL         68.0    11250   Pave   NaN      IR1   \n",
            "3   4          70       RL         60.0     9550   Pave   NaN      IR1   \n",
            "4   5          60       RL         84.0    14260   Pave   NaN      IR1   \n",
            "\n",
            "  LandContour Utilities  ... PoolArea PoolQC Fence MiscFeature MiscVal MoSold  \\\n",
            "0         Lvl    AllPub  ...        0    NaN   NaN         NaN       0      2   \n",
            "1         Lvl    AllPub  ...        0    NaN   NaN         NaN       0      5   \n",
            "2         Lvl    AllPub  ...        0    NaN   NaN         NaN       0      9   \n",
            "3         Lvl    AllPub  ...        0    NaN   NaN         NaN       0      2   \n",
            "4         Lvl    AllPub  ...        0    NaN   NaN         NaN       0     12   \n",
            "\n",
            "  YrSold  SaleType  SaleCondition  SalePrice  \n",
            "0   2008        WD         Normal     208500  \n",
            "1   2007        WD         Normal     181500  \n",
            "2   2008        WD         Normal     223500  \n",
            "3   2006        WD        Abnorml     140000  \n",
            "4   2008        WD         Normal     250000  \n",
            "\n",
            "[5 rows x 81 columns]\n",
            "                Id   MSSubClass  LotFrontage        LotArea  OverallQual  \\\n",
            "count  1460.000000  1460.000000  1201.000000    1460.000000  1460.000000   \n",
            "mean    730.500000    56.897260    70.049958   10516.828082     6.099315   \n",
            "std     421.610009    42.300571    24.284752    9981.264932     1.382997   \n",
            "min       1.000000    20.000000    21.000000    1300.000000     1.000000   \n",
            "25%     365.750000    20.000000    59.000000    7553.500000     5.000000   \n",
            "50%     730.500000    50.000000    69.000000    9478.500000     6.000000   \n",
            "75%    1095.250000    70.000000    80.000000   11601.500000     7.000000   \n",
            "max    1460.000000   190.000000   313.000000  215245.000000    10.000000   \n",
            "\n",
            "       OverallCond    YearBuilt  YearRemodAdd   MasVnrArea   BsmtFinSF1  ...  \\\n",
            "count  1460.000000  1460.000000   1460.000000  1452.000000  1460.000000  ...   \n",
            "mean      5.575342  1971.267808   1984.865753   103.685262   443.639726  ...   \n",
            "std       1.112799    30.202904     20.645407   181.066207   456.098091  ...   \n",
            "min       1.000000  1872.000000   1950.000000     0.000000     0.000000  ...   \n",
            "25%       5.000000  1954.000000   1967.000000     0.000000     0.000000  ...   \n",
            "50%       5.000000  1973.000000   1994.000000     0.000000   383.500000  ...   \n",
            "75%       6.000000  2000.000000   2004.000000   166.000000   712.250000  ...   \n",
            "max       9.000000  2010.000000   2010.000000  1600.000000  5644.000000  ...   \n",
            "\n",
            "        WoodDeckSF  OpenPorchSF  EnclosedPorch    3SsnPorch  ScreenPorch  \\\n",
            "count  1460.000000  1460.000000    1460.000000  1460.000000  1460.000000   \n",
            "mean     94.244521    46.660274      21.954110     3.409589    15.060959   \n",
            "std     125.338794    66.256028      61.119149    29.317331    55.757415   \n",
            "min       0.000000     0.000000       0.000000     0.000000     0.000000   \n",
            "25%       0.000000     0.000000       0.000000     0.000000     0.000000   \n",
            "50%       0.000000    25.000000       0.000000     0.000000     0.000000   \n",
            "75%     168.000000    68.000000       0.000000     0.000000     0.000000   \n",
            "max     857.000000   547.000000     552.000000   508.000000   480.000000   \n",
            "\n",
            "          PoolArea       MiscVal       MoSold       YrSold      SalePrice  \n",
            "count  1460.000000   1460.000000  1460.000000  1460.000000    1460.000000  \n",
            "mean      2.758904     43.489041     6.321918  2007.815753  180921.195890  \n",
            "std      40.177307    496.123024     2.703626     1.328095   79442.502883  \n",
            "min       0.000000      0.000000     1.000000  2006.000000   34900.000000  \n",
            "25%       0.000000      0.000000     5.000000  2007.000000  129975.000000  \n",
            "50%       0.000000      0.000000     6.000000  2008.000000  163000.000000  \n",
            "75%       0.000000      0.000000     8.000000  2009.000000  214000.000000  \n",
            "max     738.000000  15500.000000    12.000000  2010.000000  755000.000000  \n",
            "\n",
            "[8 rows x 38 columns]\n",
            "Id                 0\n",
            "MSSubClass         0\n",
            "MSZoning           0\n",
            "LotFrontage      259\n",
            "LotArea            0\n",
            "                ... \n",
            "MoSold             0\n",
            "YrSold             0\n",
            "SaleType           0\n",
            "SaleCondition      0\n",
            "SalePrice          0\n",
            "Length: 81, dtype: int64\n"
          ]
        }
      ]
    },
    {
      "cell_type": "code",
      "source": [
        "# Identify categorical variables\n",
        "categorical_cols = X_train.select_dtypes(include=['object']).columns\n",
        "\n",
        "# One-hot encode categorical variables\n",
        "X_train = pd.get_dummies(X_train, columns=categorical_cols)\n",
        "\n",
        "# Perform exploratory data analysis\n",
        "print(X_train.head())\n",
        "print(X_train.info())\n",
        "print(X_train.describe())\n",
        "\n",
        "# Visualize the distribution of the target variable\n",
        "plt.hist(y_train, bins=50)\n",
        "plt.title('Distribution of Sale Price')\n",
        "plt.xlabel('Sale Price')\n",
        "plt.ylabel('Frequency')\n",
        "plt.show()"
      ],
      "metadata": {
        "colab": {
          "base_uri": "https://localhost:8080/",
          "height": 1000
        },
        "id": "YFC6XPth3spO",
        "outputId": "40bb24c8-0df3-4ad5-ba09-a1eb1e178a4b"
      },
      "execution_count": 11,
      "outputs": [
        {
          "output_type": "stream",
          "name": "stdout",
          "text": [
            "        Id  MSSubClass  MSZoning  LotFrontage  LotArea  Street  Alley  \\\n",
            "254    255          20         3         70.0     8400       1     -1   \n",
            "1066  1067          60         3         59.0     7837       1     -1   \n",
            "799    800          50         3         60.0     7200       1     -1   \n",
            "380    381          50         3         50.0     5000       1      1   \n",
            "303    304          20         3         70.0     9800       1     -1   \n",
            "\n",
            "      LotShape  LandContour  Utilities  ...  PoolQC  Fence  MiscFeature  \\\n",
            "254          3            3          0  ...      -1     -1           -1   \n",
            "1066         0            3          0  ...      -1     -1           -1   \n",
            "799          3            3          0  ...      -1      2           -1   \n",
            "380          3            3          0  ...      -1     -1           -1   \n",
            "303          3            3          0  ...      -1      1           -1   \n",
            "\n",
            "      MiscVal  MoSold  YrSold  SaleType  SaleCondition  TotalSF  TotalBath  \n",
            "254         0       6    2010         8              4     2628          2  \n",
            "1066        0       5    2009         8              4     2370          3  \n",
            "799         0       6    2007         8              4     2499          3  \n",
            "380         0       5    2010         8              4     2717          2  \n",
            "303         0       7    2006         8              0     1788          2  \n",
            "\n",
            "[5 rows x 82 columns]\n",
            "<class 'pandas.core.frame.DataFrame'>\n",
            "Index: 889 entries, 254 to 1126\n",
            "Data columns (total 82 columns):\n",
            " #   Column         Non-Null Count  Dtype  \n",
            "---  ------         --------------  -----  \n",
            " 0   Id             889 non-null    int64  \n",
            " 1   MSSubClass     889 non-null    int64  \n",
            " 2   MSZoning       889 non-null    int8   \n",
            " 3   LotFrontage    889 non-null    float64\n",
            " 4   LotArea        889 non-null    int64  \n",
            " 5   Street         889 non-null    int8   \n",
            " 6   Alley          889 non-null    int8   \n",
            " 7   LotShape       889 non-null    int8   \n",
            " 8   LandContour    889 non-null    int8   \n",
            " 9   Utilities      889 non-null    int8   \n",
            " 10  LotConfig      889 non-null    int8   \n",
            " 11  LandSlope      889 non-null    int8   \n",
            " 12  Neighborhood   889 non-null    int8   \n",
            " 13  Condition1     889 non-null    int8   \n",
            " 14  Condition2     889 non-null    int8   \n",
            " 15  BldgType       889 non-null    int8   \n",
            " 16  HouseStyle     889 non-null    int8   \n",
            " 17  OverallQual    889 non-null    int64  \n",
            " 18  OverallCond    889 non-null    int64  \n",
            " 19  YearBuilt      889 non-null    int64  \n",
            " 20  YearRemodAdd   889 non-null    int64  \n",
            " 21  RoofStyle      889 non-null    int8   \n",
            " 22  RoofMatl       889 non-null    int8   \n",
            " 23  Exterior1st    889 non-null    int8   \n",
            " 24  Exterior2nd    889 non-null    int8   \n",
            " 25  MasVnrType     889 non-null    int8   \n",
            " 26  MasVnrArea     889 non-null    float64\n",
            " 27  ExterQual      889 non-null    int8   \n",
            " 28  ExterCond      889 non-null    int8   \n",
            " 29  Foundation     889 non-null    int8   \n",
            " 30  BsmtQual       889 non-null    int8   \n",
            " 31  BsmtCond       889 non-null    int8   \n",
            " 32  BsmtExposure   889 non-null    int8   \n",
            " 33  BsmtFinType1   889 non-null    int8   \n",
            " 34  BsmtFinSF1     889 non-null    int64  \n",
            " 35  BsmtFinType2   889 non-null    int8   \n",
            " 36  BsmtFinSF2     889 non-null    int64  \n",
            " 37  BsmtUnfSF      889 non-null    int64  \n",
            " 38  TotalBsmtSF    889 non-null    int64  \n",
            " 39  Heating        889 non-null    int8   \n",
            " 40  HeatingQC      889 non-null    int8   \n",
            " 41  CentralAir     889 non-null    int8   \n",
            " 42  Electrical     889 non-null    int8   \n",
            " 43  1stFlrSF       889 non-null    int64  \n",
            " 44  2ndFlrSF       889 non-null    int64  \n",
            " 45  LowQualFinSF   889 non-null    int64  \n",
            " 46  GrLivArea      889 non-null    int64  \n",
            " 47  BsmtFullBath   889 non-null    int64  \n",
            " 48  BsmtHalfBath   889 non-null    int64  \n",
            " 49  FullBath       889 non-null    int64  \n",
            " 50  HalfBath       889 non-null    int64  \n",
            " 51  BedroomAbvGr   889 non-null    int64  \n",
            " 52  KitchenAbvGr   889 non-null    int64  \n",
            " 53  KitchenQual    889 non-null    int8   \n",
            " 54  TotRmsAbvGrd   889 non-null    int64  \n",
            " 55  Functional     889 non-null    int8   \n",
            " 56  Fireplaces     889 non-null    int64  \n",
            " 57  FireplaceQu    889 non-null    int8   \n",
            " 58  GarageType     889 non-null    int8   \n",
            " 59  GarageYrBlt    889 non-null    float64\n",
            " 60  GarageFinish   889 non-null    int8   \n",
            " 61  GarageCars     889 non-null    int64  \n",
            " 62  GarageArea     889 non-null    int64  \n",
            " 63  GarageQual     889 non-null    int8   \n",
            " 64  GarageCond     889 non-null    int8   \n",
            " 65  PavedDrive     889 non-null    int8   \n",
            " 66  WoodDeckSF     889 non-null    int64  \n",
            " 67  OpenPorchSF    889 non-null    int64  \n",
            " 68  EnclosedPorch  889 non-null    int64  \n",
            " 69  3SsnPorch      889 non-null    int64  \n",
            " 70  ScreenPorch    889 non-null    int64  \n",
            " 71  PoolArea       889 non-null    int64  \n",
            " 72  PoolQC         889 non-null    int8   \n",
            " 73  Fence          889 non-null    int8   \n",
            " 74  MiscFeature    889 non-null    int8   \n",
            " 75  MiscVal        889 non-null    int64  \n",
            " 76  MoSold         889 non-null    int64  \n",
            " 77  YrSold         889 non-null    int64  \n",
            " 78  SaleType       889 non-null    int8   \n",
            " 79  SaleCondition  889 non-null    int8   \n",
            " 80  TotalSF        889 non-null    int64  \n",
            " 81  TotalBath      889 non-null    int64  \n",
            "dtypes: float64(3), int64(36), int8(43)\n",
            "memory usage: 315.1 KB\n",
            "None\n",
            "                Id  MSSubClass    MSZoning  LotFrontage        LotArea  \\\n",
            "count   889.000000  889.000000  889.000000   889.000000     889.000000   \n",
            "mean    726.926884   56.332958    3.042745    71.016873   10186.663667   \n",
            "std     424.351387   42.473434    0.615468    25.021089    8597.247061   \n",
            "min       1.000000   20.000000    0.000000    21.000000    1300.000000   \n",
            "25%     356.000000   20.000000    3.000000    60.000000    7630.000000   \n",
            "50%     728.000000   50.000000    3.000000    70.000000    9560.000000   \n",
            "75%    1096.000000   70.000000    3.000000    81.000000   11409.000000   \n",
            "max    1460.000000  190.000000    4.000000   313.000000  215245.000000   \n",
            "\n",
            "           Street       Alley    LotShape  LandContour  Utilities  ...  \\\n",
            "count  889.000000  889.000000  889.000000   889.000000      889.0  ...   \n",
            "mean     0.997750   -0.899888    2.127109     2.805399        0.0  ...   \n",
            "std      0.047404    0.385681    1.340060     0.675616        0.0  ...   \n",
            "min      0.000000   -1.000000    0.000000     0.000000        0.0  ...   \n",
            "25%      1.000000   -1.000000    0.000000     3.000000        0.0  ...   \n",
            "50%      1.000000   -1.000000    3.000000     3.000000        0.0  ...   \n",
            "75%      1.000000   -1.000000    3.000000     3.000000        0.0  ...   \n",
            "max      1.000000    1.000000    3.000000     3.000000        0.0  ...   \n",
            "\n",
            "           PoolQC       Fence  MiscFeature      MiscVal      MoSold  \\\n",
            "count  889.000000  889.000000   889.000000   889.000000  889.000000   \n",
            "mean    -0.989876   -0.518560    -0.902137    25.928009    6.389201   \n",
            "std      0.145924    1.045122     0.535335   180.946770    2.661313   \n",
            "min     -1.000000   -1.000000    -1.000000     0.000000    1.000000   \n",
            "25%     -1.000000   -1.000000    -1.000000     0.000000    5.000000   \n",
            "50%     -1.000000   -1.000000    -1.000000     0.000000    6.000000   \n",
            "75%     -1.000000   -1.000000    -1.000000     0.000000    8.000000   \n",
            "max      2.000000    3.000000     3.000000  2500.000000   12.000000   \n",
            "\n",
            "            YrSold    SaleType  SaleCondition       TotalSF   TotalBath  \n",
            "count   889.000000  889.000000     889.000000    889.000000  889.000000  \n",
            "mean   2007.800900    7.453318       3.824522   2636.033746    2.448819  \n",
            "std       1.329566    1.606684       1.056205    832.355969    0.887806  \n",
            "min    2006.000000    0.000000       0.000000    728.000000    1.000000  \n",
            "25%    2007.000000    8.000000       4.000000   2096.000000    2.000000  \n",
            "50%    2008.000000    8.000000       4.000000   2532.000000    2.000000  \n",
            "75%    2009.000000    8.000000       4.000000   3081.000000    3.000000  \n",
            "max    2010.000000    8.000000       5.000000  11752.000000    6.000000  \n",
            "\n",
            "[8 rows x 82 columns]\n"
          ]
        },
        {
          "output_type": "display_data",
          "data": {
            "text/plain": [
              "<Figure size 640x480 with 1 Axes>"
            ],
            "image/png": "[encoded data removed]"
          },
          "metadata": {}
        }
      ]
    },
    {
      "cell_type": "code",
      "source": [
        "# Convert categorical variables to numerical variables\n",
        "categorical_cols = ['MSZoning', 'Street', 'Alley', 'LotShape', 'LandContour', 'Utilities', 'LotConfig', 'LandSlope', 'Neighborhood', 'Condition1', 'Condition2', 'BldgType', 'HouseStyle', 'RoofStyle', 'RoofMatl', 'Exterior1st', 'Exterior2nd', 'MasVnrType', 'ExterQual', 'ExterCond', 'Foundation', 'BsmtQual', 'BsmtCond', 'BsmtExposure', 'BsmtFinType1', 'BsmtFinType2', 'Heating', 'HeatingQC', 'CentralAir', 'Electrical', 'KitchenQual', 'Functional', 'FireplaceQu', 'GarageType', 'GarageFinish', 'GarageQual', 'GarageCond', 'PavedDrive', 'PoolQC', 'Fence', 'MiscFeature', 'SaleType', 'SaleCondition']\n",
        "\n",
        "for col in categorical_cols:\n",
        "    train_df[col] = pd.Categorical(train_df[col]).codes\n",
        "    test_df[col] = pd.Categorical(test_df[col]).codes\n",
        "\n",
        "# Create new features\n",
        "train_df['TotalSF'] = train_df['GrLivArea'] + train_df['BsmtFinSF1'] + train_df['BsmtFinSF2'] + train_df['BsmtUnfSF']\n",
        "test_df['TotalSF'] = test_df['GrLivArea'] + test_df['BsmtFinSF1'] + test_df['BsmtFinSF2'] + test_df['BsmtUnfSF']\n",
        "\n",
        "train_df['TotalBath'] = train_df['BsmtFullBath'] + train_df['BsmtHalfBath'] + train_df['FullBath'] + train_df['HalfBath']\n",
        "test_df['TotalBath'] = test_df['BsmtFullBath'] + test_df['BsmtHalfBath'] + test_df['FullBath'] + test_df['HalfBath']"
      ],
      "metadata": {
        "id": "P4EhHzfC2E3D"
      },
      "execution_count": 4,
      "outputs": []
    },
    {
      "cell_type": "code",
      "source": [
        "# Split the data into training and validation sets\n",
        "X_train, X_val, y_train, y_val = train_test_split(train_df.drop('SalePrice', axis=1), train_df['SalePrice'], test_size=0.2, random_state=42)"
      ],
      "metadata": {
        "id": "SODOfbhl2TTC"
      },
      "execution_count": 5,
      "outputs": []
    },
    {
      "cell_type": "code",
      "source": [
        "print(X_train.shape)\n",
        "print(y_train.shape)"
      ],
      "metadata": {
        "colab": {
          "base_uri": "https://localhost:8080/"
        },
        "id": "fJY3j5aD3BGN",
        "outputId": "535f03b2-dec8-47f7-a907-4e00eeaaa137"
      },
      "execution_count": 10,
      "outputs": [
        {
          "output_type": "stream",
          "name": "stdout",
          "text": [
            "(889, 82)\n",
            "(1168,)\n"
          ]
        }
      ]
    },
    {
      "cell_type": "code",
      "source": [
        "X_train.dropna(inplace=True)\n",
        "y_train.dropna(inplace=True)\n",
        "from sklearn.utils import resample\n",
        "\n",
        "X_train, y_train = resample(X_train, y_train, n_samples=min(len(X_train), len(y_train)))\n",
        "# Create a random forest model\n",
        "rf_model = RandomForestRegressor(n_estimators=100, random_state=42)\n",
        "\n",
        "# Train the model\n",
        "rf_model.fit(X_train, y_train)\n",
        "\n",
        "# Make predictions on the validation set\n",
        "rf_pred = rf_model.predict(X_val)\n",
        "\n",
        "# Evaluate the model\n",
        "rf_mse = mean_squared_error(y_val, rf_pred)\n",
        "print(f'Random Forest MSE: {rf_mse}')\n"
      ],
      "metadata": {
        "colab": {
          "base_uri": "https://localhost:8080/",
          "height": 356
        },
        "id": "s7uFAyWn2VLP",
        "outputId": "db895b18-e578-437f-a25c-c391bd5ad9c5"
      },
      "execution_count": 9,
      "outputs": [
        {
          "output_type": "error",
          "ename": "ValueError",
          "evalue": "Found input variables with inconsistent numbers of samples: [889, 1168]",
          "traceback": [
            "\u001b[0;31m---------------------------------------------------------------------------\u001b[0m",
            "\u001b[0;31mValueError\u001b[0m                                Traceback (most recent call last)",
            "\u001b[0;32m<ipython-input-9-29b2dfa1011b>\u001b[0m in \u001b[0;36m<cell line: 5>\u001b[0;34m()\u001b[0m\n\u001b[1;32m      3\u001b[0m \u001b[0;32mfrom\u001b[0m \u001b[0msklearn\u001b[0m\u001b[0;34m.\u001b[0m\u001b[0mutils\u001b[0m \u001b[0;32mimport\u001b[0m \u001b[0mresample\u001b[0m\u001b[0;34m\u001b[0m\u001b[0;34m\u001b[0m\u001b[0m\n\u001b[1;32m      4\u001b[0m \u001b[0;34m\u001b[0m\u001b[0m\n\u001b[0;32m----> 5\u001b[0;31m \u001b[0mX_train\u001b[0m\u001b[0;34m,\u001b[0m \u001b[0my_train\u001b[0m \u001b[0;34m=\u001b[0m \u001b[0mresample\u001b[0m\u001b[0;34m(\u001b[0m\u001b[0mX_train\u001b[0m\u001b[0;34m,\u001b[0m \u001b[0my_train\u001b[0m\u001b[0;34m,\u001b[0m \u001b[0mn_samples\u001b[0m\u001b[0;34m=\u001b[0m\u001b[0mmin\u001b[0m\u001b[0;34m(\u001b[0m\u001b[0mlen\u001b[0m\u001b[0;34m(\u001b[0m\u001b[0mX_train\u001b[0m\u001b[0;34m)\u001b[0m\u001b[0;34m,\u001b[0m \u001b[0mlen\u001b[0m\u001b[0;34m(\u001b[0m\u001b[0my_train\u001b[0m\u001b[0;34m)\u001b[0m\u001b[0;34m)\u001b[0m\u001b[0;34m)\u001b[0m\u001b[0;34m\u001b[0m\u001b[0;34m\u001b[0m\u001b[0m\n\u001b[0m\u001b[1;32m      6\u001b[0m \u001b[0;31m# Create a random forest model\u001b[0m\u001b[0;34m\u001b[0m\u001b[0;34m\u001b[0m\u001b[0m\n\u001b[1;32m      7\u001b[0m \u001b[0mrf_model\u001b[0m \u001b[0;34m=\u001b[0m \u001b[0mRandomForestRegressor\u001b[0m\u001b[0;34m(\u001b[0m\u001b[0mn_estimators\u001b[0m\u001b[0;34m=\u001b[0m\u001b[0;36m100\u001b[0m\u001b[0;34m,\u001b[0m \u001b[0mrandom_state\u001b[0m\u001b[0;34m=\u001b[0m\u001b[0;36m42\u001b[0m\u001b[0;34m)\u001b[0m\u001b[0;34m\u001b[0m\u001b[0;34m\u001b[0m\u001b[0m\n",
            "\u001b[0;32m/usr/local/lib/python3.10/dist-packages/sklearn/utils/_param_validation.py\u001b[0m in \u001b[0;36mwrapper\u001b[0;34m(*args, **kwargs)\u001b[0m\n\u001b[1;32m    212\u001b[0m                     )\n\u001b[1;32m    213\u001b[0m                 ):\n\u001b[0;32m--> 214\u001b[0;31m                     \u001b[0;32mreturn\u001b[0m \u001b[0mfunc\u001b[0m\u001b[0;34m(\u001b[0m\u001b[0;34m*\u001b[0m\u001b[0margs\u001b[0m\u001b[0;34m,\u001b[0m \u001b[0;34m**\u001b[0m\u001b[0mkwargs\u001b[0m\u001b[0;34m)\u001b[0m\u001b[0;34m\u001b[0m\u001b[0;34m\u001b[0m\u001b[0m\n\u001b[0m\u001b[1;32m    215\u001b[0m             \u001b[0;32mexcept\u001b[0m \u001b[0mInvalidParameterError\u001b[0m \u001b[0;32mas\u001b[0m \u001b[0me\u001b[0m\u001b[0;34m:\u001b[0m\u001b[0;34m\u001b[0m\u001b[0;34m\u001b[0m\u001b[0m\n\u001b[1;32m    216\u001b[0m                 \u001b[0;31m# When the function is just a wrapper around an estimator, we allow\u001b[0m\u001b[0;34m\u001b[0m\u001b[0;34m\u001b[0m\u001b[0m\n",
            "\u001b[0;32m/usr/local/lib/python3.10/dist-packages/sklearn/utils/__init__.py\u001b[0m in \u001b[0;36mresample\u001b[0;34m(replace, n_samples, random_state, stratify, *arrays)\u001b[0m\n\u001b[1;32m    575\u001b[0m         )\n\u001b[1;32m    576\u001b[0m \u001b[0;34m\u001b[0m\u001b[0m\n\u001b[0;32m--> 577\u001b[0;31m     \u001b[0mcheck_consistent_length\u001b[0m\u001b[0;34m(\u001b[0m\u001b[0;34m*\u001b[0m\u001b[0marrays\u001b[0m\u001b[0;34m)\u001b[0m\u001b[0;34m\u001b[0m\u001b[0;34m\u001b[0m\u001b[0m\n\u001b[0m\u001b[1;32m    578\u001b[0m \u001b[0;34m\u001b[0m\u001b[0m\n\u001b[1;32m    579\u001b[0m     \u001b[0;32mif\u001b[0m \u001b[0mstratify\u001b[0m \u001b[0;32mis\u001b[0m \u001b[0;32mNone\u001b[0m\u001b[0;34m:\u001b[0m\u001b[0;34m\u001b[0m\u001b[0;34m\u001b[0m\u001b[0m\n",
            "\u001b[0;32m/usr/local/lib/python3.10/dist-packages/sklearn/utils/validation.py\u001b[0m in \u001b[0;36mcheck_consistent_length\u001b[0;34m(*arrays)\u001b[0m\n\u001b[1;32m    405\u001b[0m     \u001b[0muniques\u001b[0m \u001b[0;34m=\u001b[0m \u001b[0mnp\u001b[0m\u001b[0;34m.\u001b[0m\u001b[0munique\u001b[0m\u001b[0;34m(\u001b[0m\u001b[0mlengths\u001b[0m\u001b[0;34m)\u001b[0m\u001b[0;34m\u001b[0m\u001b[0;34m\u001b[0m\u001b[0m\n\u001b[1;32m    406\u001b[0m     \u001b[0;32mif\u001b[0m \u001b[0mlen\u001b[0m\u001b[0;34m(\u001b[0m\u001b[0muniques\u001b[0m\u001b[0;34m)\u001b[0m \u001b[0;34m>\u001b[0m \u001b[0;36m1\u001b[0m\u001b[0;34m:\u001b[0m\u001b[0;34m\u001b[0m\u001b[0;34m\u001b[0m\u001b[0m\n\u001b[0;32m--> 407\u001b[0;31m         raise ValueError(\n\u001b[0m\u001b[1;32m    408\u001b[0m             \u001b[0;34m\"Found input variables with inconsistent numbers of samples: %r\"\u001b[0m\u001b[0;34m\u001b[0m\u001b[0;34m\u001b[0m\u001b[0m\n\u001b[1;32m    409\u001b[0m             \u001b[0;34m%\u001b[0m \u001b[0;34m[\u001b[0m\u001b[0mint\u001b[0m\u001b[0;34m(\u001b[0m\u001b[0ml\u001b[0m\u001b[0;34m)\u001b[0m \u001b[0;32mfor\u001b[0m \u001b[0ml\u001b[0m \u001b[0;32min\u001b[0m \u001b[0mlengths\u001b[0m\u001b[0;34m]\u001b[0m\u001b[0;34m\u001b[0m\u001b[0;34m\u001b[0m\u001b[0m\n",
            "\u001b[0;31mValueError\u001b[0m: Found input variables with inconsistent numbers of samples: [889, 1168]"
          ]
        }
      ]
    },
    {
      "cell_type": "code",
      "source": [],
      "metadata": {
        "id": "Vl19JJdQ2pAl"
      },
      "execution_count": null,
      "outputs": []
    }
  ]
}